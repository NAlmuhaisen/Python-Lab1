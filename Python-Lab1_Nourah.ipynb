{
 "cells": [
  {
   "cell_type": "code",
   "execution_count": 1,
   "id": "e53ce170",
   "metadata": {},
   "outputs": [],
   "source": [
    "season = \"Winter\"  # Define a variable that has a value of your favourite season"
   ]
  },
  {
   "cell_type": "code",
   "execution_count": 2,
   "id": "3fbecb36",
   "metadata": {},
   "outputs": [],
   "source": [
    "x = 1  # Define “x“ variable has an integer value and variable “y” has a float value\n",
    "y = 1.1 "
   ]
  },
  {
   "cell_type": "code",
   "execution_count": 4,
   "id": "7f04eb71",
   "metadata": {},
   "outputs": [],
   "source": [
    "a = b = c = 3  # Assign One Value to Multiple Variables"
   ]
  },
  {
   "cell_type": "code",
   "execution_count": 5,
   "id": "86145074",
   "metadata": {},
   "outputs": [],
   "source": [
    "d , e, f = 4 , 5, 6  # Assign Many Values to Multiple Variables."
   ]
  }
 ],
 "metadata": {
  "kernelspec": {
   "display_name": "Python 3 (ipykernel)",
   "language": "python",
   "name": "python3"
  },
  "language_info": {
   "codemirror_mode": {
    "name": "ipython",
    "version": 3
   },
   "file_extension": ".py",
   "mimetype": "text/x-python",
   "name": "python",
   "nbconvert_exporter": "python",
   "pygments_lexer": "ipython3",
   "version": "3.10.9"
  }
 },
 "nbformat": 4,
 "nbformat_minor": 5
}
